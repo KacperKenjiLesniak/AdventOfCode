{
 "cells": [
  {
   "cell_type": "code",
   "execution_count": 84,
   "id": "8f03d097",
   "metadata": {},
   "outputs": [],
   "source": [
    "import requests\n",
    "import numpy as np\n",
    "with open('.session_cookie.txt') as session:\n",
    "    cookies = dict(session=session.read())\n",
    "data = requests.get(\"https://adventofcode.com/2021/day/12/input\", cookies=cookies).content.decode().split('\\n')"
   ]
  },
  {
   "cell_type": "code",
   "execution_count": 85,
   "id": "508fa1cd",
   "metadata": {},
   "outputs": [],
   "source": [
    "# data = \"start-A\\nstart-b\\nA-c\\nA-b\\nb-d\\nA-end\\nb-end\\n\".split('\\n')"
   ]
  },
  {
   "cell_type": "code",
   "execution_count": 86,
   "id": "69921df6",
   "metadata": {},
   "outputs": [],
   "source": [
    "edges = [x.split('-') for x in data][:-1]"
   ]
  },
  {
   "cell_type": "code",
   "execution_count": 88,
   "id": "80891440",
   "metadata": {},
   "outputs": [],
   "source": [
    "graph = {}\n",
    "for edge in edges:\n",
    "    graph[edge[0]]  = {'neigh': []}\n",
    "    graph[edge[1]]  = {'neigh': []}"
   ]
  },
  {
   "cell_type": "code",
   "execution_count": 89,
   "id": "4b0a3c8f",
   "metadata": {},
   "outputs": [],
   "source": [
    "for edge in edges:\n",
    "    graph[edge[0]]['neigh'].append(str(edge[1]))\n",
    "    graph[edge[1]]['neigh'].append(str(edge[0]))"
   ]
  },
  {
   "cell_type": "code",
   "execution_count": 102,
   "id": "dfab036b",
   "metadata": {},
   "outputs": [],
   "source": [
    "all_paths = []\n",
    "\n",
    "def find_paths(start_v, graph):\n",
    "    find_next([start_v], start_v, graph)\n",
    "    \n",
    "def find_next(current_path, current_v, graph):\n",
    "    if current_v == 'end':\n",
    "        all_paths.append(current_path)\n",
    "    else:\n",
    "        for v in graph[current_v]['neigh']:\n",
    "            if v.isupper() or v not in current_path:\n",
    "                new_path = current_path.copy() \n",
    "                new_path.append(v)\n",
    "                find_next(new_path, v, graph)\n",
    "            "
   ]
  },
  {
   "cell_type": "code",
   "execution_count": 103,
   "id": "5c326550",
   "metadata": {},
   "outputs": [],
   "source": [
    "find_paths('start', graph)"
   ]
  },
  {
   "cell_type": "code",
   "execution_count": 104,
   "id": "9c9065db",
   "metadata": {},
   "outputs": [
    {
     "data": {
      "text/plain": [
       "4411"
      ]
     },
     "execution_count": 104,
     "metadata": {},
     "output_type": "execute_result"
    }
   ],
   "source": [
    "len(all_paths)"
   ]
  },
  {
   "cell_type": "markdown",
   "id": "7ac18dd4",
   "metadata": {},
   "source": [
    "# Part two"
   ]
  },
  {
   "cell_type": "code",
   "execution_count": 121,
   "id": "ef9f5eb8",
   "metadata": {},
   "outputs": [],
   "source": [
    "import time\n",
    "all_paths = []\n",
    "\n",
    "def find_paths(start_v, graph):\n",
    "    find_next(([start_v], False), start_v, graph)\n",
    "    \n",
    "def find_next(current_path, current_v, graph):\n",
    "    if current_v == 'end':\n",
    "        all_paths.append(current_path)\n",
    "    else:\n",
    "        for v in graph[current_v]['neigh']:\n",
    "            if v != 'start' and (v.isupper() or v not in current_path[0] or not current_path[1]): \n",
    "                new_path = (current_path[0].copy(), current_path[1] or (not v.isupper() and v in current_path[0]))\n",
    "                new_path[0].append(v)\n",
    "#                 print(new_path)\n",
    "#                 time.sleep(0.5)\n",
    "                find_next(new_path, v, graph)"
   ]
  },
  {
   "cell_type": "code",
   "execution_count": 122,
   "id": "c329496d",
   "metadata": {},
   "outputs": [],
   "source": [
    "find_next((['start'], False), 'start', graph)"
   ]
  },
  {
   "cell_type": "code",
   "execution_count": 123,
   "id": "8756ddeb",
   "metadata": {},
   "outputs": [
    {
     "data": {
      "text/plain": [
       "136767"
      ]
     },
     "execution_count": 123,
     "metadata": {},
     "output_type": "execute_result"
    }
   ],
   "source": [
    "len(all_paths)"
   ]
  },
  {
   "cell_type": "code",
   "execution_count": null,
   "id": "6754619f",
   "metadata": {},
   "outputs": [],
   "source": []
  }
 ],
 "metadata": {
  "kernelspec": {
   "display_name": "Python 3",
   "language": "python",
   "name": "python3"
  },
  "language_info": {
   "codemirror_mode": {
    "name": "ipython",
    "version": 3
   },
   "file_extension": ".py",
   "mimetype": "text/x-python",
   "name": "python",
   "nbconvert_exporter": "python",
   "pygments_lexer": "ipython3",
   "version": "3.8.8"
  }
 },
 "nbformat": 4,
 "nbformat_minor": 5
}
