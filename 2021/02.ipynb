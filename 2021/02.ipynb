{
 "cells": [
  {
   "cell_type": "code",
   "execution_count": 38,
   "id": "1c4f213d",
   "metadata": {},
   "outputs": [],
   "source": [
    "import requests\n",
    "with open('.session_cookie.txt') as session:\n",
    "    cookies = dict(session=session.read())\n",
    "data = requests.get(\"https://adventofcode.com/2021/day/2/input\", cookies=cookies).content.decode().split('\\n')"
   ]
  },
  {
   "cell_type": "code",
   "execution_count": 49,
   "id": "af45ca16",
   "metadata": {},
   "outputs": [
    {
     "data": {
      "text/plain": [
       "1694130"
      ]
     },
     "execution_count": 49,
     "metadata": {},
     "output_type": "execute_result"
    }
   ],
   "source": [
    "depth = 0\n",
    "pos = 0\n",
    "for line in list(map(lambda x: x.split(\" \"), data)):\n",
    "    if (line[0] == \"forward\"):\n",
    "        pos += int(line[1])\n",
    "    if (line[0] == \"up\"):\n",
    "        depth -= int(line[1])\n",
    "    if (line[0] == \"down\"):  \n",
    "        depth += int(line[1])\n",
    "depth*pos"
   ]
  },
  {
   "cell_type": "code",
   "execution_count": 50,
   "id": "6aa6110f",
   "metadata": {},
   "outputs": [
    {
     "data": {
      "text/plain": [
       "1698850445"
      ]
     },
     "execution_count": 50,
     "metadata": {},
     "output_type": "execute_result"
    }
   ],
   "source": [
    "depth = 0\n",
    "pos = 0\n",
    "aim = 0\n",
    "for line in list(map(lambda x: x.split(\" \"), data)):\n",
    "    if (line[0] == \"forward\"):\n",
    "        pos += int(line[1])\n",
    "        depth += int(line[1])*aim\n",
    "    if (line[0] == \"up\"):\n",
    "        aim -= int(line[1])\n",
    "    if (line[0] == \"down\"):  \n",
    "        aim += int(line[1])\n",
    "depth*pos"
   ]
  },
  {
   "cell_type": "code",
   "execution_count": null,
   "id": "0db793e4",
   "metadata": {},
   "outputs": [],
   "source": []
  }
 ],
 "metadata": {
  "kernelspec": {
   "display_name": "Python 3",
   "language": "python",
   "name": "python3"
  },
  "language_info": {
   "codemirror_mode": {
    "name": "ipython",
    "version": 3
   },
   "file_extension": ".py",
   "mimetype": "text/x-python",
   "name": "python",
   "nbconvert_exporter": "python",
   "pygments_lexer": "ipython3",
   "version": "3.8.8"
  }
 },
 "nbformat": 4,
 "nbformat_minor": 5
}
