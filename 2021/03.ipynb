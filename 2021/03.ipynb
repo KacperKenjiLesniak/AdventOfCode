{
 "cells": [
  {
   "cell_type": "code",
   "execution_count": 140,
   "id": "b3c83329",
   "metadata": {},
   "outputs": [],
   "source": [
    "import requests\n",
    "with open('.session_cookie.txt') as session:\n",
    "    cookies = dict(session=session.read())\n",
    "data = requests.get(\"https://adventofcode.com/2021/day/3/input\", cookies=cookies).content.decode().split('\\n')"
   ]
  },
  {
   "cell_type": "markdown",
   "id": "5e6dbc79",
   "metadata": {},
   "source": [
    "# Part one"
   ]
  },
  {
   "cell_type": "code",
   "execution_count": 189,
   "id": "30a3265a",
   "metadata": {},
   "outputs": [],
   "source": [
    "bits = list(map(lambda x: list(map(lambda y: int(y), list(x))), data))"
   ]
  },
  {
   "cell_type": "code",
   "execution_count": 190,
   "id": "e8c9cf27",
   "metadata": {},
   "outputs": [],
   "source": [
    "import numpy as np\n",
    "array = np.array([np.array(xi) for xi in bits[:-1]])\n",
    "sum_of_bits = array.sum(axis = 0)\n",
    "bits_array = (sum_of_bits >= len(array)/2).astype(int).tolist()\n",
    "reverse_array = np.ones(len(bits_array)) - bits_array"
   ]
  },
  {
   "cell_type": "code",
   "execution_count": 191,
   "id": "32dc6472",
   "metadata": {},
   "outputs": [
    {
     "data": {
      "text/plain": [
       "3529"
      ]
     },
     "execution_count": 191,
     "metadata": {},
     "output_type": "execute_result"
    }
   ],
   "source": [
    "out1 = 0\n",
    "for bit in bits_array:\n",
    "    out1 = (out1 << 1) | bit\n",
    "out1"
   ]
  },
  {
   "cell_type": "code",
   "execution_count": 192,
   "id": "e38f5630",
   "metadata": {},
   "outputs": [
    {
     "data": {
      "text/plain": [
       "566"
      ]
     },
     "execution_count": 192,
     "metadata": {},
     "output_type": "execute_result"
    }
   ],
   "source": [
    "out2 = 0\n",
    "for bit in reverse_array:\n",
    "    out2 = (out2 << 1) | int(bit)\n",
    "out2"
   ]
  },
  {
   "cell_type": "code",
   "execution_count": 193,
   "id": "b45e725a",
   "metadata": {},
   "outputs": [
    {
     "data": {
      "text/plain": [
       "1997414"
      ]
     },
     "execution_count": 193,
     "metadata": {},
     "output_type": "execute_result"
    }
   ],
   "source": [
    "out1*out2"
   ]
  },
  {
   "cell_type": "markdown",
   "id": "8eed3556",
   "metadata": {},
   "source": [
    "# Part two"
   ]
  },
  {
   "cell_type": "code",
   "execution_count": 223,
   "id": "e39aa19d",
   "metadata": {},
   "outputs": [],
   "source": [
    "filtered_array1 = array.copy()\n",
    "filtered_array2 = array.copy()\n",
    "\n",
    "for i in range(len(array[0])):\n",
    "    bit_sum = sum([x[i] for x in filtered_array1])\n",
    "    filtered_array1 = list(filter(lambda x: x[i] == int(bit_sum >= len(filtered_array1)/2),  filtered_array1))\n",
    "    if len(filtered_array1)==1:\n",
    "        res1 = filtered_array1[0]\n",
    "for i in range(len(array[0])):\n",
    "    bit_sum = sum([x[i] for x in filtered_array2])\n",
    "    filtered_array2 = list(filter(lambda x: x[i] == int(bit_sum < len(filtered_array2)/2),  filtered_array2))\n",
    "    if len(filtered_array2)==1:\n",
    "        res2 = filtered_array2[0]"
   ]
  },
  {
   "cell_type": "code",
   "execution_count": 224,
   "id": "f2413a38",
   "metadata": {},
   "outputs": [
    {
     "data": {
      "text/plain": [
       "3573"
      ]
     },
     "execution_count": 224,
     "metadata": {},
     "output_type": "execute_result"
    }
   ],
   "source": [
    "out1 = 0\n",
    "for bit in res1:\n",
    "    out1 = (out1 << 1) | bit\n",
    "out1"
   ]
  },
  {
   "cell_type": "code",
   "execution_count": 225,
   "id": "41deeab9",
   "metadata": {},
   "outputs": [
    {
     "data": {
      "text/plain": [
       "289"
      ]
     },
     "execution_count": 225,
     "metadata": {},
     "output_type": "execute_result"
    }
   ],
   "source": [
    "out2 = 0\n",
    "for bit in res2:\n",
    "    out2 = (out2 << 1) | bit\n",
    "out2"
   ]
  },
  {
   "cell_type": "code",
   "execution_count": 227,
   "id": "01e4f63b",
   "metadata": {},
   "outputs": [
    {
     "data": {
      "text/plain": [
       "1032597"
      ]
     },
     "execution_count": 227,
     "metadata": {},
     "output_type": "execute_result"
    }
   ],
   "source": [
    "out1 * out2"
   ]
  }
 ],
 "metadata": {
  "kernelspec": {
   "display_name": "Python 3",
   "language": "python",
   "name": "python3"
  },
  "language_info": {
   "codemirror_mode": {
    "name": "ipython",
    "version": 3
   },
   "file_extension": ".py",
   "mimetype": "text/x-python",
   "name": "python",
   "nbconvert_exporter": "python",
   "pygments_lexer": "ipython3",
   "version": "3.8.8"
  }
 },
 "nbformat": 4,
 "nbformat_minor": 5
}
