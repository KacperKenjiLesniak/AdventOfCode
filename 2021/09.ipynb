{
 "cells": [
  {
   "cell_type": "code",
   "execution_count": 113,
   "id": "058a0a74",
   "metadata": {},
   "outputs": [],
   "source": [
    "import requests\n",
    "import numpy as np\n",
    "with open('.session_cookie.txt') as session:\n",
    "    cookies = dict(session=session.read())\n",
    "data = requests.get(\"https://adventofcode.com/2021/day/9/input\", cookies=cookies).content.decode().split('\\n')"
   ]
  },
  {
   "cell_type": "code",
   "execution_count": 114,
   "id": "38d34166",
   "metadata": {},
   "outputs": [],
   "source": [
    "heights = list(map(lambda x: [int (y) for y in [char for char in x]], data))"
   ]
  },
  {
   "cell_type": "code",
   "execution_count": 115,
   "id": "5373d4de",
   "metadata": {},
   "outputs": [],
   "source": [
    "heights = np.asanyarray(heights[:-1])"
   ]
  },
  {
   "cell_type": "code",
   "execution_count": 116,
   "id": "d463bc1c",
   "metadata": {},
   "outputs": [],
   "source": [
    "heights = np.vstack([(np.full(heights.shape[1], 10)), heights, (np.full(heights.shape[1], 10))])"
   ]
  },
  {
   "cell_type": "code",
   "execution_count": 117,
   "id": "48f970ef",
   "metadata": {},
   "outputs": [],
   "source": [
    "heights = np.hstack(((np.full(( heights.shape[0], 1), 10)), heights, (np.full(( heights.shape[0], 1), 10))))"
   ]
  },
  {
   "cell_type": "code",
   "execution_count": 118,
   "id": "a559e90c",
   "metadata": {},
   "outputs": [],
   "source": [
    "risks = np.zeros(heights.shape)"
   ]
  },
  {
   "cell_type": "code",
   "execution_count": 119,
   "id": "b3c09df0",
   "metadata": {},
   "outputs": [],
   "source": [
    "for i, row in enumerate(heights[1:-1]):\n",
    "    for j, point in enumerate(row[1:-1]):\n",
    "        if point < heights[i+2, j+1] and point < heights[i+1, j+2] and point < heights[i+1, j]  and point < heights[i, j+1]:\n",
    "            risks[i+1, j+1] = point + 1"
   ]
  },
  {
   "cell_type": "code",
   "execution_count": 120,
   "id": "fbcafd24",
   "metadata": {},
   "outputs": [
    {
     "data": {
      "text/plain": [
       "504.0"
      ]
     },
     "execution_count": 120,
     "metadata": {},
     "output_type": "execute_result"
    }
   ],
   "source": [
    "risks.sum()"
   ]
  },
  {
   "cell_type": "code",
   "execution_count": 121,
   "id": "8d6aa9e6",
   "metadata": {},
   "outputs": [],
   "source": [
    "lowest = []\n",
    "for i, row in enumerate(risks):\n",
    "    for j, point in enumerate(row):\n",
    "        if point > 0:\n",
    "            lowest.append((i, j, point-1))"
   ]
  },
  {
   "cell_type": "code",
   "execution_count": 123,
   "id": "851fe6f3",
   "metadata": {},
   "outputs": [],
   "source": [
    "def find_basin_size(x, y, heights):\n",
    "    if (heights[x,y] >= 9):\n",
    "        return 0\n",
    "    else:\n",
    "        s = (1 + (find_basin_size(x+1, y, heights) if heights[x, y] < heights[x+1, y] else 0)\n",
    "                 + (find_basin_size(x, y+1, heights) if heights[x, y] < heights[x, y+1] else 0)\n",
    "                 + (find_basin_size(x, y-1, heights) if heights[x, y] < heights[x, y-1] else 0)\n",
    "                 + (find_basin_size(x-1, y, heights) if heights[x, y] < heights[x-1, y] else 0))\n",
    "        heights[x, y] = 10\n",
    "        return s"
   ]
  },
  {
   "cell_type": "code",
   "execution_count": 124,
   "id": "e712de3e",
   "metadata": {},
   "outputs": [],
   "source": [
    "basins = list(map(lambda l: find_basin_size(l[0], l[1], heights), lowest))"
   ]
  },
  {
   "cell_type": "code",
   "execution_count": 125,
   "id": "b22b22a9",
   "metadata": {},
   "outputs": [],
   "source": [
    "basins.sort()"
   ]
  },
  {
   "cell_type": "code",
   "execution_count": 126,
   "id": "fb2becb6",
   "metadata": {},
   "outputs": [
    {
     "data": {
      "text/plain": [
       "1558722"
      ]
     },
     "execution_count": 126,
     "metadata": {},
     "output_type": "execute_result"
    }
   ],
   "source": [
    "basins[-1]*basins[-2]*basins[-3]"
   ]
  },
  {
   "cell_type": "code",
   "execution_count": null,
   "id": "aa1413e3",
   "metadata": {},
   "outputs": [],
   "source": []
  }
 ],
 "metadata": {
  "kernelspec": {
   "display_name": "Python 3",
   "language": "python",
   "name": "python3"
  },
  "language_info": {
   "codemirror_mode": {
    "name": "ipython",
    "version": 3
   },
   "file_extension": ".py",
   "mimetype": "text/x-python",
   "name": "python",
   "nbconvert_exporter": "python",
   "pygments_lexer": "ipython3",
   "version": "3.8.8"
  }
 },
 "nbformat": 4,
 "nbformat_minor": 5
}
