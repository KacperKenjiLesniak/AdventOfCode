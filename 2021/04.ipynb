{
 "cells": [
  {
   "cell_type": "code",
   "execution_count": 73,
   "id": "b3c83329",
   "metadata": {},
   "outputs": [],
   "source": [
    "import requests\n",
    "with open('.session_cookie.txt') as session:\n",
    "    cookies = dict(session=session.read())\n",
    "data = requests.get(\"https://adventofcode.com/2021/day/4/input\", cookies=cookies).content.decode().split('\\n')"
   ]
  },
  {
   "cell_type": "markdown",
   "id": "5e6dbc79",
   "metadata": {},
   "source": [
    "# Part one"
   ]
  },
  {
   "cell_type": "code",
   "execution_count": 116,
   "id": "1db86ae4",
   "metadata": {},
   "outputs": [],
   "source": [
    "import numpy as np"
   ]
  },
  {
   "cell_type": "code",
   "execution_count": 117,
   "id": "30a3265a",
   "metadata": {},
   "outputs": [],
   "source": [
    "numbers = data[0]"
   ]
  },
  {
   "cell_type": "code",
   "execution_count": 118,
   "id": "83a553ff",
   "metadata": {},
   "outputs": [],
   "source": [
    "numbers = [int(x) for x in numbers.split(',')]\n",
    "boards = data[1:]"
   ]
  },
  {
   "cell_type": "code",
   "execution_count": 119,
   "id": "578c25b8",
   "metadata": {},
   "outputs": [],
   "source": [
    "boards_list = []\n",
    "win_list = []\n",
    "for i in range (1, len(boards) - 5, 6):\n",
    "    board = [x.lstrip(' ').replace('  ', ' ').split(' ') for x in boards[i:i+5]]\n",
    "    boards_list.append(board)\n",
    "    win_list.append(np.zeros((5,5)))"
   ]
  },
  {
   "cell_type": "code",
   "execution_count": 120,
   "id": "90a3ef56",
   "metadata": {},
   "outputs": [
    {
     "data": {
      "text/plain": [
       "array([[0., 0., 0., 0., 0.],\n",
       "       [0., 0., 0., 0., 0.],\n",
       "       [0., 0., 0., 0., 0.],\n",
       "       [0., 0., 0., 0., 0.],\n",
       "       [0., 0., 0., 0., 0.]])"
      ]
     },
     "execution_count": 120,
     "metadata": {},
     "output_type": "execute_result"
    }
   ],
   "source": [
    "win_list[0]"
   ]
  },
  {
   "cell_type": "code",
   "execution_count": 79,
   "id": "a1e1ed9e",
   "metadata": {},
   "outputs": [],
   "source": [
    "def find_winner():\n",
    "    for winner in numbers:\n",
    "        for i, board in enumerate(boards_list):\n",
    "            for j, row in enumerate(board):\n",
    "                for k, number in enumerate(row):\n",
    "                    if winner == int(number):\n",
    "                        win_list[i][j][k] = 1\n",
    "            rows = win_list[i].sum(axis = 0)\n",
    "            columns = win_list[i].sum(axis = 1)\n",
    "            if 5 in rows or 5 in columns:\n",
    "                return board, win_list[i], winner\n"
   ]
  },
  {
   "cell_type": "code",
   "execution_count": 80,
   "id": "d45e0416",
   "metadata": {},
   "outputs": [],
   "source": [
    "w_board, w_res, winner = find_winner()"
   ]
  },
  {
   "cell_type": "code",
   "execution_count": 81,
   "id": "8f480ef8",
   "metadata": {},
   "outputs": [
    {
     "data": {
      "text/plain": [
       "65325"
      ]
     },
     "execution_count": 81,
     "metadata": {},
     "output_type": "execute_result"
    }
   ],
   "source": [
    "unmarked = 0\n",
    "for i, row in enumerate(w_board):\n",
    "    for j, number in enumerate(row):\n",
    "        if w_res[i][j] == 0:\n",
    "            unmarked+=int(number)\n",
    "unmarked*winner"
   ]
  },
  {
   "cell_type": "markdown",
   "id": "3bad803a",
   "metadata": {},
   "source": [
    "# Part two"
   ]
  },
  {
   "cell_type": "code",
   "execution_count": 121,
   "id": "69683213",
   "metadata": {},
   "outputs": [],
   "source": [
    "def find_all_winner():\n",
    "    winners = set()\n",
    "    for winner in numbers:\n",
    "        for i, board in enumerate(boards_list):\n",
    "            for j, row in enumerate(board):\n",
    "                for k, number in enumerate(row):\n",
    "                    if winner == int(number):\n",
    "                        win_list[i][j][k] = 1\n",
    "            rows = win_list[i].sum(axis = 0)\n",
    "            columns = win_list[i].sum(axis = 1)\n",
    "            if 5 in rows or 5 in columns:\n",
    "                winners.add(str(i))\n",
    "                if len(winners) == len(boards_list):\n",
    "                    return board, win_list[i], winner\n"
   ]
  },
  {
   "cell_type": "code",
   "execution_count": 122,
   "id": "6fd9ec83",
   "metadata": {
    "scrolled": false
   },
   "outputs": [],
   "source": [
    "w_board, w_res, winner = find_all_winner()"
   ]
  },
  {
   "cell_type": "code",
   "execution_count": 123,
   "id": "8d9148fa",
   "metadata": {},
   "outputs": [
    {
     "data": {
      "text/plain": [
       "4624"
      ]
     },
     "execution_count": 123,
     "metadata": {},
     "output_type": "execute_result"
    }
   ],
   "source": [
    "unmarked = 0\n",
    "for i, row in enumerate(w_board):\n",
    "    for j, number in enumerate(row):\n",
    "        if w_res[i][j] == 0:\n",
    "            unmarked+=int(number)\n",
    "unmarked*winner"
   ]
  },
  {
   "cell_type": "code",
   "execution_count": null,
   "id": "74566bad",
   "metadata": {},
   "outputs": [],
   "source": []
  }
 ],
 "metadata": {
  "kernelspec": {
   "display_name": "Python 3",
   "language": "python",
   "name": "python3"
  },
  "language_info": {
   "codemirror_mode": {
    "name": "ipython",
    "version": 3
   },
   "file_extension": ".py",
   "mimetype": "text/x-python",
   "name": "python",
   "nbconvert_exporter": "python",
   "pygments_lexer": "ipython3",
   "version": "3.8.8"
  }
 },
 "nbformat": 4,
 "nbformat_minor": 5
}
