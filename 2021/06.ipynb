{
 "cells": [
  {
   "cell_type": "code",
   "execution_count": 31,
   "id": "058a0a74",
   "metadata": {},
   "outputs": [],
   "source": [
    "import requests\n",
    "import numpy as np\n",
    "with open('.session_cookie.txt') as session:\n",
    "    cookies = dict(session=session.read())\n",
    "data = requests.get(\"https://adventofcode.com/2021/day/6/input\", cookies=cookies).content.decode().split('\\n')"
   ]
  },
  {
   "cell_type": "code",
   "execution_count": 32,
   "id": "38d34166",
   "metadata": {},
   "outputs": [],
   "source": [
    "fish = [int(x) for x in data[0].split(',')]"
   ]
  },
  {
   "cell_type": "code",
   "execution_count": 33,
   "id": "5373d4de",
   "metadata": {},
   "outputs": [],
   "source": [
    "fish_array = np.zeros(16)"
   ]
  },
  {
   "cell_type": "code",
   "execution_count": 34,
   "id": "a559e90c",
   "metadata": {},
   "outputs": [],
   "source": [
    "for f in fish:\n",
    "    fish_array[f] += 1\n",
    "for i in range(0, 256):\n",
    "    tmp_fish_array = np.roll(fish_array, -1)\n",
    "    tmp_fish_array[15] = fish_array[0]\n",
    "    tmp_fish_array[6] += fish_array[0]\n",
    "    tmp_fish_array[15] += fish_array[7]\n",
    "    fish_array = tmp_fish_array"
   ]
  },
  {
   "cell_type": "code",
   "execution_count": 35,
   "id": "b3c09df0",
   "metadata": {},
   "outputs": [
    {
     "data": {
      "text/plain": [
       "1640526601595.0"
      ]
     },
     "execution_count": 35,
     "metadata": {},
     "output_type": "execute_result"
    }
   ],
   "source": [
    "fish_array.sum()"
   ]
  }
 ],
 "metadata": {
  "kernelspec": {
   "display_name": "Python 3",
   "language": "python",
   "name": "python3"
  },
  "language_info": {
   "codemirror_mode": {
    "name": "ipython",
    "version": 3
   },
   "file_extension": ".py",
   "mimetype": "text/x-python",
   "name": "python",
   "nbconvert_exporter": "python",
   "pygments_lexer": "ipython3",
   "version": "3.8.8"
  }
 },
 "nbformat": 4,
 "nbformat_minor": 5
}
